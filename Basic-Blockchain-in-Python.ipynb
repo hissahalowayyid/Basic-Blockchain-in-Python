{
 "cells": [
  {
   "cell_type": "code",
   "execution_count": 1,
   "id": "138bdc56-7eb0-4311-b2e3-0ca95652a85d",
   "metadata": {},
   "outputs": [],
   "source": [
    "from hashlib import sha256\n",
    "import json\n",
    "\n",
    "class Block:\n",
    "    def __init__(self, index, transactions, timestamp, previous_hash, nonce=0):\n",
    "        self.index = index\n",
    "        self.transactions = transactions\n",
    "        self.timestamp = timestamp\n",
    "        self.previous_hash = previous_hash\n",
    "        self.nonce = nonce\n",
    "\n",
    "    def compute_hash(self):\n",
    "        block_string = json.dumps(self.__dict__, sort_keys=True)\n",
    "        return sha256(block_string.encode()).hexdigest()"
   ]
  },
  {
   "cell_type": "code",
   "execution_count": 2,
   "id": "e1a98ee1-4ebc-4ef9-abbb-b4a858da68b1",
   "metadata": {},
   "outputs": [],
   "source": [
    "class Blockchain:\n",
    "   def __init__(self):\n",
    "      pass\n",
    "\n",
    "class Blockchain:     \n",
    "   def __init__(self):\n",
    "       self.unconfirmed_transactions = []\n",
    "       self.chain = []\n",
    "       self.difficulty = 2\n",
    "       self.create_genesis_block() "
   ]
  },
  {
   "cell_type": "code",
   "execution_count": 3,
   "id": "0f555ff8-6210-4d09-a1cf-64c615491ca7",
   "metadata": {},
   "outputs": [],
   "source": [
    " def create_genesis_block(self):\n",
    "       genesis_block = Block(0, [], time.time(), \"0\")\n",
    "       genesis_block.hash = genesis_block.compute_hash()\n",
    "       self.chain.append(genesis_block)"
   ]
  },
  {
   "cell_type": "code",
   "execution_count": 4,
   "id": "31b90760-d5e0-4b32-932d-106b13174343",
   "metadata": {},
   "outputs": [],
   "source": [
    "def get_last_block(self):\n",
    "        last_block = self.__chain[-1]"
   ]
  },
  {
   "cell_type": "code",
   "execution_count": 5,
   "id": "9d0187f5-f0d9-46cc-b9b1-c9e35a3f657c",
   "metadata": {},
   "outputs": [],
   "source": [
    "def proof_of_work(self, block):\n",
    "    block.nonce = 1 # Test \n",
    "    computed_hash = block.compute_hash()\n",
    "    while not computed_hash.startswith('0' * Blockchain.difficulty):\n",
    "            block.nonce += 1\n",
    "            computed_hash = block.compute_hash()\n",
    "    return computed_hash"
   ]
  },
  {
   "cell_type": "code",
   "execution_count": 6,
   "id": "e13ebf84-d24e-4959-bb2e-689ef477cc90",
   "metadata": {},
   "outputs": [],
   "source": [
    "def is_valid_proof(self, block, block_hash):\n",
    "        return (block_hash.startswith('0' * Blockchain.difficulty) and\n",
    "                block_hash == block.compute_hash())"
   ]
  },
  {
   "cell_type": "code",
   "execution_count": 7,
   "id": "13ac1d66-bca1-481e-95c5-d5415eb83e05",
   "metadata": {},
   "outputs": [],
   "source": [
    "def add_block(self, block, proof):\n",
    "        previous_hash = self.last_block.hash\n",
    "        if previous_hash != block.previous_hash:\n",
    "            return False\n",
    "        if not self.is_valid_proof(block, proof):\n",
    "            return False\n",
    "        block.hash = proof"
   ]
  },
  {
   "cell_type": "code",
   "execution_count": 8,
   "id": "2877f2cd-248d-40ab-ba3f-0c3a845f1610",
   "metadata": {},
   "outputs": [],
   "source": [
    "def add_new_transaction(self, transaction):\n",
    "            self.unconfirmed_transactions.append(transaction)"
   ]
  },
  {
   "cell_type": "code",
   "execution_count": 9,
   "id": "aafcfc33-3225-424e-baee-6f708c53e24c",
   "metadata": {},
   "outputs": [],
   "source": [
    "def mine(self):\n",
    "        if not self.unconfirmed_transactions:\n",
    "            return False\n",
    " \n",
    "        last_block = self.last_block\n",
    " \n",
    "        new_block = Block(index=last_block.index + 1,\n",
    "                          transactions=self.unconfirmed_transactions,\n",
    "                          timestamp=time.time(),\n",
    "                          previous_hash=last_block.hash)\n",
    " \n",
    "        proof = self.proof_of_work(new_block)\n",
    "        self.add_block(new_block, proof)\n",
    "        self.unconfirmed_transactions = []\n",
    "        return new_block.index"
   ]
  },
  {
   "cell_type": "code",
   "execution_count": null,
   "id": "8929fdb0-9d21-41a7-b0eb-b4a6032bf37b",
   "metadata": {},
   "outputs": [],
   "source": [
    " # todo define get_last_block(self) -> Block, hint: consider an index to the last element in your chain property.\n",
    "   #\n",
    "   # todo define proof_of_work(self, block:Block) -> str, \n",
    "      # hint consider something similar to:\n",
    "      # computed_hash = how do we get the hash from a Block object?\n",
    "      # while not computed_hash.startswith('0' * Blockchain.difficulty):\n",
    "      #         block.nonce += 1\n",
    "      #         computed_hash = block.compute_hash()\n",
    "      # Don't forget to return the hash. \n",
    "   #\n",
    "   # todo define is_valid_proof(self, block:Block, block_hash:str) -> bool\n",
    "      # hint, we want to return true if block_hash.startswith('0' * Blockchain.difficulty)\n",
    "      # AND if block_hash is in fact the hash of our block (maybe use block.compute_hash())\n",
    "   #\n",
    "   # todo define add_block(self, block:Block, proof:str) -> bool\n",
    "      # hints, we probably want to get the previous hash from get_last_block()\n",
    "      # Check if the previous hash matches the previous hash in the block argument. \n",
    "      # Make use of is_valid_proof for block and proof to check if someone is trying to do something sneaky. \n",
    "      # for both of the above, let's return False early and return control the calling function if the block is not valid.\n",
    "      # If we make it this far, we're in the clear. So let's add the hash to our block, append it to the chain, \n",
    "      # and return True. \n",
    "   #\n",
    "   #\n",
    "   # todo, define add_new_transaction(self, transaction:dict) -> None\n",
    "      # Hint how do we append to a list? How do we do this for a property of our object (self). Ease one line function.    \n",
    "   #\n",
    "   # todo, define mine(self) -> int:\n",
    "      # Hints: do we need to continue if our mempool is empty? Maybe return -1 if so. \n",
    "      # consider retrieving the last block to a local variable make life easy. \n",
    "      # Let's make sure we use our Block constructor to create a new block with all the transactions we want to mine \n",
    "      # (all of them are fine)\n",
    "      # hint: Block(index=last_block.index + 1,\n",
    "      #                    transactions=self.unconfirmed_transactions,\n",
    "      #                    timestamp=time.time(),\n",
    "      #                    previous_hash=last_block.hash)\n",
    "      #\n",
    "      # Finally, let's be sure to use our handy proof_of_work function, add_block function, and to remember to reset our\n",
    "      # unconfirmed_transactions (our mem-pool), before returning our new block index;"
   ]
  }
 ],
 "metadata": {
  "kernelspec": {
   "display_name": "Python 3",
   "language": "python",
   "name": "python3"
  },
  "language_info": {
   "codemirror_mode": {
    "name": "ipython",
    "version": 3
   },
   "file_extension": ".py",
   "mimetype": "text/x-python",
   "name": "python",
   "nbconvert_exporter": "python",
   "pygments_lexer": "ipython3",
   "version": "3.8.8"
  }
 },
 "nbformat": 4,
 "nbformat_minor": 5
}
